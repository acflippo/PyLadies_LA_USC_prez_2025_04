{
  "nbformat": 4,
  "nbformat_minor": 0,
  "metadata": {
    "colab": {
      "provenance": [],
      "include_colab_link": true
    },
    "kernelspec": {
      "name": "python3",
      "display_name": "Python 3"
    }
  },
  "cells": [
    {
      "cell_type": "markdown",
      "metadata": {
        "id": "view-in-github",
        "colab_type": "text"
      },
      "source": [
        "<a href=\"https://colab.research.google.com/github/acflippo/PyLadies_LA_USC_prez_2025_04/blob/main/PyladiesLA_using_SQL_in_Python_colab.ipynb\" target=\"_parent\"><img src=\"https://colab.research.google.com/assets/colab-badge.svg\" alt=\"Open In Colab\"/></a>"
      ]
    },
    {
      "cell_type": "markdown",
      "metadata": {
        "id": "pAynvpmlvdZt"
      },
      "source": [
        "### Introduction to SQL Sub-Queries\n",
        "\n",
        "This notebook explore the basics of the use of sub-queries with SQL"
      ]
    },
    {
      "cell_type": "code",
      "metadata": {
        "id": "_xkGEn95uh6W",
        "colab": {
          "base_uri": "https://localhost:8080/"
        },
        "outputId": "8160ca43-6e16-48b6-c264-4e6fa2f118bc"
      },
      "source": [
        "# CREATING THE TABLE\n",
        "import sqlite3\n",
        "\n",
        "conn = sqlite3.connect('test.db')\n",
        "print(\"Opened database successfully\");\n",
        "\n",
        "conn.execute('''\n",
        "CREATE TABLE IF NOT EXISTS team_data(team text,\n",
        "  country text,\n",
        "  season integer,\n",
        "  total_goals integer);\n",
        "'''\n",
        ")\n",
        "\n",
        "conn.commit()\n",
        "\n",
        "print(\"Table created successfully\");\n",
        "\n",
        "conn.close()"
      ],
      "execution_count": 1,
      "outputs": [
        {
          "output_type": "stream",
          "name": "stdout",
          "text": [
            "Opened database successfully\n",
            "Table created successfully\n"
          ]
        }
      ]
    },
    {
      "cell_type": "code",
      "metadata": {
        "id": "r9SeHPpgu73Z"
      },
      "source": [
        "# INSERTING VALUES\n",
        "conn = sqlite3.connect('test.db')\n",
        "\n",
        "conn.execute(\"INSERT INTO team_data VALUES('Real Madrid', 'Spain', 2019, 53);\")\n",
        "conn.execute(\"INSERT INTO team_data VALUES('Barcelona', 'Spain', 2019, 47);\")\n",
        "conn.execute(\"INSERT INTO team_data VALUES('Arsenal', 'UK', 2019, 52);\")\n",
        "conn.execute(\"INSERT INTO team_data VALUES('Real Madrid', 'Spain', 2018, 49);\")\n",
        "conn.execute(\"INSERT INTO team_data VALUES('Barcelona', 'Spain', 2018, 45);\")\n",
        "conn.execute(\"INSERT INTO team_data VALUES('Arsenal', 'UK', 2018, 50 );\")\n",
        "\n",
        "conn.commit()"
      ],
      "execution_count": 2,
      "outputs": []
    },
    {
      "cell_type": "code",
      "metadata": {
        "id": "L9nIsr9Jwuds",
        "colab": {
          "base_uri": "https://localhost:8080/"
        },
        "outputId": "c595963c-2323-4737-c800-28c31fd70ae8"
      },
      "source": [
        "# Average goal by team\n",
        "\n",
        "conn = sqlite3.connect('test.db')\n",
        "\n",
        "cursor = conn.execute(''' SELECT team,\n",
        "                            AVG(total_goals) AS avg_goals\n",
        "                          FROM team_data\n",
        "                          GROUP BY team;''')\n",
        "\n",
        "for row in cursor:\n",
        "  print(row)\n",
        "conn.close()"
      ],
      "execution_count": 3,
      "outputs": [
        {
          "output_type": "stream",
          "name": "stdout",
          "text": [
            "('Arsenal', 51.0)\n",
            "('Barcelona', 46.0)\n",
            "('Real Madrid', 51.0)\n"
          ]
        }
      ]
    },
    {
      "cell_type": "code",
      "metadata": {
        "id": "HfJEEubPye8h",
        "colab": {
          "base_uri": "https://localhost:8080/"
        },
        "outputId": "5575b44a-8c2a-496a-db45-ea2731aebffe"
      },
      "source": [
        "# First try to filter the teams with average goals higher than 50\n",
        "# This query will generate an error\n",
        "\n",
        "conn = sqlite3.connect('test.db')\n",
        "\n",
        "cursor = conn.execute(''' SELECT team AS team_name,\n",
        "                                 avg(total_goals) AS avg_goals\n",
        "                          FROM team_data\n",
        "                          GROUP BY team\n",
        "                          HAVING avg_goals > 50;\n",
        "                          ''')\n",
        "\n",
        "for row in cursor:\n",
        "    print(row)\n",
        "conn.close()"
      ],
      "execution_count": 4,
      "outputs": [
        {
          "output_type": "stream",
          "name": "stdout",
          "text": [
            "('Arsenal', 51.0)\n",
            "('Real Madrid', 51.0)\n"
          ]
        }
      ]
    },
    {
      "cell_type": "code",
      "metadata": {
        "id": "NlJ3wc21zU3l",
        "colab": {
          "base_uri": "https://localhost:8080/"
        },
        "outputId": "79d84f33-ada9-40e5-9c5b-50e806acdd8b"
      },
      "source": [
        "# Now, the correct query, using the appropriate sub-query\n",
        "\n",
        "conn = sqlite3.connect('test.db')\n",
        "\n",
        "cursor = conn.execute(''' SELECT team_name, avg_goals\n",
        "                          FROM (\n",
        "\n",
        "                          -- Here we make our sub-query:\n",
        "                            SELECT team AS team_name,\n",
        "                            AVG(total_goals) AS avg_goals\n",
        "                            FROM team_data\n",
        "                            GROUP BY team) tp\n",
        "                          -- End of the sub-query\n",
        "\n",
        "                          WHERE avg_goals > 50;''')\n",
        "\n",
        "for row in cursor:\n",
        "  print(row)\n",
        "conn.close()"
      ],
      "execution_count": 5,
      "outputs": [
        {
          "output_type": "stream",
          "name": "stdout",
          "text": [
            "('Arsenal', 51.0)\n",
            "('Real Madrid', 51.0)\n"
          ]
        }
      ]
    },
    {
      "cell_type": "markdown",
      "metadata": {
        "id": "hYzqFZIn0BpL"
      },
      "source": [
        "## Exercise\n",
        "\n",
        "Now, it's your turn.  Try your hands on the following exercises."
      ]
    },
    {
      "cell_type": "code",
      "source": [
        "# Create a table called users with 4 columns\n",
        "# user_id int\n",
        "# name text\n",
        "# status text\n",
        "# country text\n",
        "\n",
        "conn = sqlite3.connect('test.db')\n",
        "print(\"Opened database successfully\");\n",
        "\n",
        "conn.execute('''\n",
        "CREATE TABLE IF NOT EXISTS\n",
        "   [ToDo: Enter Code Here]);\n",
        "'''\n",
        ")\n",
        "\n",
        "conn.commit()\n",
        "\n",
        "print(\"Table created successfully\");\n",
        "\n",
        "conn.close()\n"
      ],
      "metadata": {
        "id": "PloMFllURS6_"
      },
      "execution_count": 6,
      "outputs": []
    },
    {
      "cell_type": "code",
      "source": [
        "# INSERTING VALUES into users table\n",
        "\n",
        "# insert into users values (10, 'Brad Pitt', 'open', 'USA');\n",
        "# insert into users values (11, 'Nicole Kidman', 'closed', 'Australia');\n",
        "# insert into users values (12, 'Mike Myers', 'open', 'Canada');\n",
        "# insert into users values (13, 'Chris Hemsworth', 'open', 'Australia');\n",
        "# insert into users values (14, 'Morgan Freman', 'closed', 'USA');\n",
        "# insert into users values (15, 'Keanu Reeves', 'open', 'USA');\n",
        "# insert into users values (16, 'Winona Ryder', 'open', 'USA');\n",
        "# insert into users values (17, 'Jackie Chan', 'open', 'China');\n",
        "# insert into users values (18, 'Dwayne Johnsn', 'closed', 'USA');\n",
        "# insert into users values (19, 'Hugh Jackman', 'open', 'Australia');\n",
        "# insert into users values (20, 'Jimin', 'open', 'South Korea');\n",
        "# insert into users values (21, 'Song Kan', 'closed', 'South Korea');\n",
        "# insert into users values (22, 'Lee Kang-in', 'open', 'South Korea');\n",
        "# insert into users values (23, 'Takeshi Kitano', 'closed', 'Japan');\n",
        "# insert into users values (24, 'Yoko Ono', 'closed', 'Japan');\n",
        "# insert into users values (25, 'Ken Watanabe', 'open', 'Japan');\n",
        "# insert into users values (26, 'Emma Stone', 'open', 'USA');\n",
        "# insert into users values (27, 'Meg Ryan', 'closed', 'USA');\n",
        "# insert into users values (28, 'Jason Momoa', 'open', 'USA');\n",
        "# insert into users values (29, 'Harrison Ford', 'closed', 'USA');\n",
        "# insert into users values (30, 'Anna Kendrick', 'open', 'USA');\n",
        "# insert into users values (31, 'Matt Damon', 'closed', 'USA');\n",
        "# insert into users values (32, 'Kristen Bell', 'closed', 'USA');\n",
        "# insert into users values (35, 'Chris Pratt', 'open', 'USA');\n",
        "# insert into users values (36, 'Zoe Saldana', 'closed', 'USA');\n",
        "# insert into users values (37, 'Chadwick Boseman', 'open', 'USA');\n",
        "# insert into users values (38, 'Damon Wayans Jr.', 'open', 'USA');\n",
        "# insert into users values (39, 'Mark Ruffalo', 'closed', 'USA');\n",
        "# insert into users values (40, 'Keith Urban', 'open', 'Australia');\n",
        "# insert into users values (41, 'Eric Bana', 'closed', 'Australia');\n",
        "# insert into users values (42, 'Bae Suzy', 'open', 'South Korea');\n",
        "# insert into users values (43, 'Lee Min-ho', 'open', 'South Korea');\n",
        "# insert into users values (44, 'Bai Ling', 'open', 'China');\n",
        "# insert into users values (45, 'Michelle Yeoh', 'open', 'Malaysia');\n",
        "# insert into users values (46, 'Henry Golding', 'open', 'Malaysia');\n",
        "# insert into users values (47, 'Amber Chia', 'closed', 'Malaysia');\n",
        "# insert into users values (48, 'Drake', 'open', 'Canada');\n",
        "# insert into users values (49, 'Celine Dion', 'closed', 'Canada');\n",
        "# insert into users values (50, 'Ray Gosling', 'open', 'Canada');\n",
        "# insert into users values (51, 'Jet Li', 'open', 'China');\n",
        "# insert into users values (52, 'William Chan', 'closed', 'China');\n",
        "\n",
        "\n",
        "conn = sqlite3.connect('test.db')\n",
        "\n",
        "conn.execute(\"[TODO: Add insert statements here];\")\n",
        "# conn.execute(\"[TODO: Add insert statements here];\")\n",
        "# conn.execute(\"[TODO: Add insert statements here];\")\n",
        "\n",
        "\n",
        "conn.commit()"
      ],
      "metadata": {
        "id": "e_FjeK2AR9HV"
      },
      "execution_count": null,
      "outputs": []
    },
    {
      "cell_type": "code",
      "source": [
        "# Answer the following question\n",
        "# How many users are there for each country?\n",
        "\n",
        "conn = sqlite3.connect('test.db')\n",
        "\n",
        "cursor = conn.execute(''' [TODO: Write your query here] ''')\n",
        "\n",
        "for row in cursor:\n",
        "    print(row)\n",
        "conn.close()"
      ],
      "metadata": {
        "id": "OYgQLAqoSoTD"
      },
      "execution_count": null,
      "outputs": []
    }
  ]
}